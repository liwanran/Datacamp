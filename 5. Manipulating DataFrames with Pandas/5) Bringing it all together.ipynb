{
 "cells": [
  {
   "cell_type": "markdown",
   "metadata": {},
   "source": [
    "https://www.datacamp.com/courses/manipulating-dataframes-with-pandas\n",
    "# Case study: Summer Olympics"
   ]
  },
  {
   "cell_type": "code",
   "execution_count": 155,
   "metadata": {},
   "outputs": [],
   "source": [
    "import pandas as pd\n",
    "import numpy as np"
   ]
  },
  {
   "cell_type": "code",
   "execution_count": 156,
   "metadata": {},
   "outputs": [
    {
     "data": {
      "text/html": [
       "<div>\n",
       "<style scoped>\n",
       "    .dataframe tbody tr th:only-of-type {\n",
       "        vertical-align: middle;\n",
       "    }\n",
       "\n",
       "    .dataframe tbody tr th {\n",
       "        vertical-align: top;\n",
       "    }\n",
       "\n",
       "    .dataframe thead th {\n",
       "        text-align: right;\n",
       "    }\n",
       "</style>\n",
       "<table border=\"1\" class=\"dataframe\">\n",
       "  <thead>\n",
       "    <tr style=\"text-align: right;\">\n",
       "      <th></th>\n",
       "      <th>City</th>\n",
       "      <th>Edition</th>\n",
       "      <th>Sport</th>\n",
       "      <th>Discipline</th>\n",
       "      <th>Athlete</th>\n",
       "      <th>NOC</th>\n",
       "      <th>Gender</th>\n",
       "      <th>Event</th>\n",
       "      <th>Event_gender</th>\n",
       "      <th>Medal</th>\n",
       "    </tr>\n",
       "  </thead>\n",
       "  <tbody>\n",
       "    <tr>\n",
       "      <th>0</th>\n",
       "      <td>Athens</td>\n",
       "      <td>1896</td>\n",
       "      <td>Aquatics</td>\n",
       "      <td>Swimming</td>\n",
       "      <td>HAJOS, Alfred</td>\n",
       "      <td>HUN</td>\n",
       "      <td>Men</td>\n",
       "      <td>100m freestyle</td>\n",
       "      <td>M</td>\n",
       "      <td>Gold</td>\n",
       "    </tr>\n",
       "    <tr>\n",
       "      <th>1</th>\n",
       "      <td>Athens</td>\n",
       "      <td>1896</td>\n",
       "      <td>Aquatics</td>\n",
       "      <td>Swimming</td>\n",
       "      <td>HERSCHMANN, Otto</td>\n",
       "      <td>AUT</td>\n",
       "      <td>Men</td>\n",
       "      <td>100m freestyle</td>\n",
       "      <td>M</td>\n",
       "      <td>Silver</td>\n",
       "    </tr>\n",
       "    <tr>\n",
       "      <th>2</th>\n",
       "      <td>Athens</td>\n",
       "      <td>1896</td>\n",
       "      <td>Aquatics</td>\n",
       "      <td>Swimming</td>\n",
       "      <td>DRIVAS, Dimitrios</td>\n",
       "      <td>GRE</td>\n",
       "      <td>Men</td>\n",
       "      <td>100m freestyle for sailors</td>\n",
       "      <td>M</td>\n",
       "      <td>Bronze</td>\n",
       "    </tr>\n",
       "  </tbody>\n",
       "</table>\n",
       "</div>"
      ],
      "text/plain": [
       "     City  Edition     Sport Discipline            Athlete  NOC Gender  \\\n",
       "0  Athens     1896  Aquatics   Swimming      HAJOS, Alfred  HUN    Men   \n",
       "1  Athens     1896  Aquatics   Swimming   HERSCHMANN, Otto  AUT    Men   \n",
       "2  Athens     1896  Aquatics   Swimming  DRIVAS, Dimitrios  GRE    Men   \n",
       "\n",
       "                        Event Event_gender   Medal  \n",
       "0              100m freestyle            M    Gold  \n",
       "1              100m freestyle            M  Silver  \n",
       "2  100m freestyle for sailors            M  Bronze  "
      ]
     },
     "execution_count": 156,
     "metadata": {},
     "output_type": "execute_result"
    }
   ],
   "source": [
    "medal = pd.read_csv('datasets/all_medalists.csv')\n",
    "medal.head(3)"
   ]
  },
  {
   "cell_type": "code",
   "execution_count": 157,
   "metadata": {},
   "outputs": [
    {
     "data": {
      "text/html": [
       "<div>\n",
       "<style scoped>\n",
       "    .dataframe tbody tr th:only-of-type {\n",
       "        vertical-align: middle;\n",
       "    }\n",
       "\n",
       "    .dataframe tbody tr th {\n",
       "        vertical-align: top;\n",
       "    }\n",
       "\n",
       "    .dataframe thead th {\n",
       "        text-align: right;\n",
       "    }\n",
       "</style>\n",
       "<table border=\"1\" class=\"dataframe\">\n",
       "  <thead>\n",
       "    <tr style=\"text-align: right;\">\n",
       "      <th></th>\n",
       "      <th>City</th>\n",
       "      <th>Edition</th>\n",
       "      <th>Sport</th>\n",
       "      <th>Discipline</th>\n",
       "      <th>Athlete</th>\n",
       "      <th>NOC</th>\n",
       "      <th>Gender</th>\n",
       "      <th>Event</th>\n",
       "      <th>Event_gender</th>\n",
       "      <th>Medal</th>\n",
       "    </tr>\n",
       "  </thead>\n",
       "  <tbody>\n",
       "    <tr>\n",
       "      <th>11</th>\n",
       "      <td>Athens</td>\n",
       "      <td>1896</td>\n",
       "      <td>Athletics</td>\n",
       "      <td>Athletics</td>\n",
       "      <td>LANE, Francis</td>\n",
       "      <td>USA</td>\n",
       "      <td>Men</td>\n",
       "      <td>100m</td>\n",
       "      <td>M</td>\n",
       "      <td>Bronze</td>\n",
       "    </tr>\n",
       "    <tr>\n",
       "      <th>13</th>\n",
       "      <td>Athens</td>\n",
       "      <td>1896</td>\n",
       "      <td>Athletics</td>\n",
       "      <td>Athletics</td>\n",
       "      <td>BURKE, Thomas</td>\n",
       "      <td>USA</td>\n",
       "      <td>Men</td>\n",
       "      <td>100m</td>\n",
       "      <td>M</td>\n",
       "      <td>Gold</td>\n",
       "    </tr>\n",
       "    <tr>\n",
       "      <th>15</th>\n",
       "      <td>Athens</td>\n",
       "      <td>1896</td>\n",
       "      <td>Athletics</td>\n",
       "      <td>Athletics</td>\n",
       "      <td>CURTIS, Thomas</td>\n",
       "      <td>USA</td>\n",
       "      <td>Men</td>\n",
       "      <td>110m hurdles</td>\n",
       "      <td>M</td>\n",
       "      <td>Gold</td>\n",
       "    </tr>\n",
       "    <tr>\n",
       "      <th>19</th>\n",
       "      <td>Athens</td>\n",
       "      <td>1896</td>\n",
       "      <td>Athletics</td>\n",
       "      <td>Athletics</td>\n",
       "      <td>BLAKE, Arthur</td>\n",
       "      <td>USA</td>\n",
       "      <td>Men</td>\n",
       "      <td>1500m</td>\n",
       "      <td>M</td>\n",
       "      <td>Silver</td>\n",
       "    </tr>\n",
       "    <tr>\n",
       "      <th>21</th>\n",
       "      <td>Athens</td>\n",
       "      <td>1896</td>\n",
       "      <td>Athletics</td>\n",
       "      <td>Athletics</td>\n",
       "      <td>BURKE, Thomas</td>\n",
       "      <td>USA</td>\n",
       "      <td>Men</td>\n",
       "      <td>400m</td>\n",
       "      <td>M</td>\n",
       "      <td>Gold</td>\n",
       "    </tr>\n",
       "  </tbody>\n",
       "</table>\n",
       "</div>"
      ],
      "text/plain": [
       "      City  Edition      Sport Discipline         Athlete  NOC Gender  \\\n",
       "11  Athens     1896  Athletics  Athletics   LANE, Francis  USA    Men   \n",
       "13  Athens     1896  Athletics  Athletics   BURKE, Thomas  USA    Men   \n",
       "15  Athens     1896  Athletics  Athletics  CURTIS, Thomas  USA    Men   \n",
       "19  Athens     1896  Athletics  Athletics   BLAKE, Arthur  USA    Men   \n",
       "21  Athens     1896  Athletics  Athletics   BURKE, Thomas  USA    Men   \n",
       "\n",
       "           Event Event_gender   Medal  \n",
       "11          100m            M  Bronze  \n",
       "13          100m            M    Gold  \n",
       "15  110m hurdles            M    Gold  \n",
       "19         1500m            M  Silver  \n",
       "21          400m            M    Gold  "
      ]
     },
     "execution_count": 157,
     "metadata": {},
     "output_type": "execute_result"
    }
   ],
   "source": [
    "medal[medal.NOC == 'USA'].head()"
   ]
  },
  {
   "cell_type": "markdown",
   "metadata": {},
   "source": [
    "### 1) to find the total number of medals awarded to the USA per edition"
   ]
  },
  {
   "cell_type": "code",
   "execution_count": 158,
   "metadata": {
    "scrolled": true
   },
   "outputs": [
    {
     "data": {
      "text/plain": [
       "Edition\n",
       "1896     20\n",
       "1900     55\n",
       "1904    394\n",
       "1908     63\n",
       "1912    101\n",
       "Name: Medal, dtype: int64"
      ]
     },
     "execution_count": 158,
     "metadata": {},
     "output_type": "execute_result"
    }
   ],
   "source": [
    "medal[medal.NOC=='USA'].groupby('Edition')['Medal'].count().head()"
   ]
  },
  {
   "cell_type": "markdown",
   "metadata": {},
   "source": [
    "### 2) df.value_counts( ): for ranking"
   ]
  },
  {
   "cell_type": "code",
   "execution_count": 159,
   "metadata": {},
   "outputs": [
    {
     "data": {
      "text/plain": [
       "USA    4335\n",
       "URS    2049\n",
       "GBR    1594\n",
       "Name: NOC, dtype: int64"
      ]
     },
     "execution_count": 159,
     "metadata": {},
     "output_type": "execute_result"
    }
   ],
   "source": [
    "medal.NOC.value_counts().head(3)"
   ]
  },
  {
   "cell_type": "markdown",
   "metadata": {},
   "source": [
    "### 3) df.pivot_table( ): to count medals by type"
   ]
  },
  {
   "cell_type": "code",
   "execution_count": 160,
   "metadata": {},
   "outputs": [
    {
     "data": {
      "text/html": [
       "<div>\n",
       "<style scoped>\n",
       "    .dataframe tbody tr th:only-of-type {\n",
       "        vertical-align: middle;\n",
       "    }\n",
       "\n",
       "    .dataframe tbody tr th {\n",
       "        vertical-align: top;\n",
       "    }\n",
       "\n",
       "    .dataframe thead th {\n",
       "        text-align: right;\n",
       "    }\n",
       "</style>\n",
       "<table border=\"1\" class=\"dataframe\">\n",
       "  <thead>\n",
       "    <tr style=\"text-align: right;\">\n",
       "      <th></th>\n",
       "      <th>City</th>\n",
       "      <th>Edition</th>\n",
       "      <th>Sport</th>\n",
       "      <th>Discipline</th>\n",
       "      <th>Athlete</th>\n",
       "      <th>NOC</th>\n",
       "      <th>Gender</th>\n",
       "      <th>Event</th>\n",
       "      <th>Event_gender</th>\n",
       "      <th>Medal</th>\n",
       "    </tr>\n",
       "  </thead>\n",
       "  <tbody>\n",
       "    <tr>\n",
       "      <th>0</th>\n",
       "      <td>Athens</td>\n",
       "      <td>1896</td>\n",
       "      <td>Aquatics</td>\n",
       "      <td>Swimming</td>\n",
       "      <td>HAJOS, Alfred</td>\n",
       "      <td>HUN</td>\n",
       "      <td>Men</td>\n",
       "      <td>100m freestyle</td>\n",
       "      <td>M</td>\n",
       "      <td>Gold</td>\n",
       "    </tr>\n",
       "    <tr>\n",
       "      <th>1</th>\n",
       "      <td>Athens</td>\n",
       "      <td>1896</td>\n",
       "      <td>Aquatics</td>\n",
       "      <td>Swimming</td>\n",
       "      <td>HERSCHMANN, Otto</td>\n",
       "      <td>AUT</td>\n",
       "      <td>Men</td>\n",
       "      <td>100m freestyle</td>\n",
       "      <td>M</td>\n",
       "      <td>Silver</td>\n",
       "    </tr>\n",
       "    <tr>\n",
       "      <th>2</th>\n",
       "      <td>Athens</td>\n",
       "      <td>1896</td>\n",
       "      <td>Aquatics</td>\n",
       "      <td>Swimming</td>\n",
       "      <td>DRIVAS, Dimitrios</td>\n",
       "      <td>GRE</td>\n",
       "      <td>Men</td>\n",
       "      <td>100m freestyle for sailors</td>\n",
       "      <td>M</td>\n",
       "      <td>Bronze</td>\n",
       "    </tr>\n",
       "  </tbody>\n",
       "</table>\n",
       "</div>"
      ],
      "text/plain": [
       "     City  Edition     Sport Discipline            Athlete  NOC Gender  \\\n",
       "0  Athens     1896  Aquatics   Swimming      HAJOS, Alfred  HUN    Men   \n",
       "1  Athens     1896  Aquatics   Swimming   HERSCHMANN, Otto  AUT    Men   \n",
       "2  Athens     1896  Aquatics   Swimming  DRIVAS, Dimitrios  GRE    Men   \n",
       "\n",
       "                        Event Event_gender   Medal  \n",
       "0              100m freestyle            M    Gold  \n",
       "1              100m freestyle            M  Silver  \n",
       "2  100m freestyle for sailors            M  Bronze  "
      ]
     },
     "execution_count": 160,
     "metadata": {},
     "output_type": "execute_result"
    }
   ],
   "source": [
    "medal.head(3)"
   ]
  },
  {
   "cell_type": "code",
   "execution_count": 161,
   "metadata": {
    "scrolled": true
   },
   "outputs": [
    {
     "data": {
      "text/html": [
       "<div>\n",
       "<style scoped>\n",
       "    .dataframe tbody tr th:only-of-type {\n",
       "        vertical-align: middle;\n",
       "    }\n",
       "\n",
       "    .dataframe tbody tr th {\n",
       "        vertical-align: top;\n",
       "    }\n",
       "\n",
       "    .dataframe thead th {\n",
       "        text-align: right;\n",
       "    }\n",
       "</style>\n",
       "<table border=\"1\" class=\"dataframe\">\n",
       "  <thead>\n",
       "    <tr style=\"text-align: right;\">\n",
       "      <th>Medal</th>\n",
       "      <th>Bronze</th>\n",
       "      <th>Gold</th>\n",
       "      <th>Silver</th>\n",
       "    </tr>\n",
       "    <tr>\n",
       "      <th>NOC</th>\n",
       "      <th></th>\n",
       "      <th></th>\n",
       "      <th></th>\n",
       "    </tr>\n",
       "  </thead>\n",
       "  <tbody>\n",
       "    <tr>\n",
       "      <th>AFG</th>\n",
       "      <td>1.0</td>\n",
       "      <td>NaN</td>\n",
       "      <td>NaN</td>\n",
       "    </tr>\n",
       "    <tr>\n",
       "      <th>AHO</th>\n",
       "      <td>NaN</td>\n",
       "      <td>NaN</td>\n",
       "      <td>1.0</td>\n",
       "    </tr>\n",
       "    <tr>\n",
       "      <th>ALG</th>\n",
       "      <td>8.0</td>\n",
       "      <td>4.0</td>\n",
       "      <td>2.0</td>\n",
       "    </tr>\n",
       "  </tbody>\n",
       "</table>\n",
       "</div>"
      ],
      "text/plain": [
       "Medal  Bronze  Gold  Silver\n",
       "NOC                        \n",
       "AFG       1.0   NaN     NaN\n",
       "AHO       NaN   NaN     1.0\n",
       "ALG       8.0   4.0     2.0"
      ]
     },
     "execution_count": 161,
     "metadata": {},
     "output_type": "execute_result"
    }
   ],
   "source": [
    "m_pivot = medal.pivot_table(index='NOC', columns='Medal', values='Athlete', aggfunc='count')\n",
    "m_pivot.head(3)"
   ]
  },
  {
   "cell_type": "code",
   "execution_count": 162,
   "metadata": {},
   "outputs": [
    {
     "data": {
      "text/html": [
       "<div>\n",
       "<style scoped>\n",
       "    .dataframe tbody tr th:only-of-type {\n",
       "        vertical-align: middle;\n",
       "    }\n",
       "\n",
       "    .dataframe tbody tr th {\n",
       "        vertical-align: top;\n",
       "    }\n",
       "\n",
       "    .dataframe thead th {\n",
       "        text-align: right;\n",
       "    }\n",
       "</style>\n",
       "<table border=\"1\" class=\"dataframe\">\n",
       "  <thead>\n",
       "    <tr style=\"text-align: right;\">\n",
       "      <th>Medal</th>\n",
       "      <th>Bronze</th>\n",
       "      <th>Gold</th>\n",
       "      <th>Silver</th>\n",
       "      <th>totals</th>\n",
       "    </tr>\n",
       "    <tr>\n",
       "      <th>NOC</th>\n",
       "      <th></th>\n",
       "      <th></th>\n",
       "      <th></th>\n",
       "      <th></th>\n",
       "    </tr>\n",
       "  </thead>\n",
       "  <tbody>\n",
       "    <tr>\n",
       "      <th>AFG</th>\n",
       "      <td>1.0</td>\n",
       "      <td>NaN</td>\n",
       "      <td>NaN</td>\n",
       "      <td>1.0</td>\n",
       "    </tr>\n",
       "    <tr>\n",
       "      <th>AHO</th>\n",
       "      <td>NaN</td>\n",
       "      <td>NaN</td>\n",
       "      <td>1.0</td>\n",
       "      <td>1.0</td>\n",
       "    </tr>\n",
       "    <tr>\n",
       "      <th>ALG</th>\n",
       "      <td>8.0</td>\n",
       "      <td>4.0</td>\n",
       "      <td>2.0</td>\n",
       "      <td>14.0</td>\n",
       "    </tr>\n",
       "    <tr>\n",
       "      <th>ANZ</th>\n",
       "      <td>5.0</td>\n",
       "      <td>20.0</td>\n",
       "      <td>4.0</td>\n",
       "      <td>29.0</td>\n",
       "    </tr>\n",
       "    <tr>\n",
       "      <th>ARG</th>\n",
       "      <td>88.0</td>\n",
       "      <td>68.0</td>\n",
       "      <td>83.0</td>\n",
       "      <td>239.0</td>\n",
       "    </tr>\n",
       "  </tbody>\n",
       "</table>\n",
       "</div>"
      ],
      "text/plain": [
       "Medal  Bronze  Gold  Silver  totals\n",
       "NOC                                \n",
       "AFG       1.0   NaN     NaN     1.0\n",
       "AHO       NaN   NaN     1.0     1.0\n",
       "ALG       8.0   4.0     2.0    14.0\n",
       "ANZ       5.0  20.0     4.0    29.0\n",
       "ARG      88.0  68.0    83.0   239.0"
      ]
     },
     "execution_count": 162,
     "metadata": {},
     "output_type": "execute_result"
    }
   ],
   "source": [
    "m_pivot['totals'] = m_pivot.sum(axis='columns')\n",
    "m_pivot.head()"
   ]
  },
  {
   "cell_type": "code",
   "execution_count": 163,
   "metadata": {},
   "outputs": [
    {
     "data": {
      "text/html": [
       "<div>\n",
       "<style scoped>\n",
       "    .dataframe tbody tr th:only-of-type {\n",
       "        vertical-align: middle;\n",
       "    }\n",
       "\n",
       "    .dataframe tbody tr th {\n",
       "        vertical-align: top;\n",
       "    }\n",
       "\n",
       "    .dataframe thead th {\n",
       "        text-align: right;\n",
       "    }\n",
       "</style>\n",
       "<table border=\"1\" class=\"dataframe\">\n",
       "  <thead>\n",
       "    <tr style=\"text-align: right;\">\n",
       "      <th>Medal</th>\n",
       "      <th>Bronze</th>\n",
       "      <th>Gold</th>\n",
       "      <th>Silver</th>\n",
       "      <th>totals</th>\n",
       "    </tr>\n",
       "    <tr>\n",
       "      <th>NOC</th>\n",
       "      <th></th>\n",
       "      <th></th>\n",
       "      <th></th>\n",
       "      <th></th>\n",
       "    </tr>\n",
       "  </thead>\n",
       "  <tbody>\n",
       "    <tr>\n",
       "      <th>USA</th>\n",
       "      <td>1052.0</td>\n",
       "      <td>2088.0</td>\n",
       "      <td>1195.0</td>\n",
       "      <td>4335.0</td>\n",
       "    </tr>\n",
       "    <tr>\n",
       "      <th>URS</th>\n",
       "      <td>584.0</td>\n",
       "      <td>838.0</td>\n",
       "      <td>627.0</td>\n",
       "      <td>2049.0</td>\n",
       "    </tr>\n",
       "    <tr>\n",
       "      <th>GBR</th>\n",
       "      <td>505.0</td>\n",
       "      <td>498.0</td>\n",
       "      <td>591.0</td>\n",
       "      <td>1594.0</td>\n",
       "    </tr>\n",
       "    <tr>\n",
       "      <th>FRA</th>\n",
       "      <td>475.0</td>\n",
       "      <td>378.0</td>\n",
       "      <td>461.0</td>\n",
       "      <td>1314.0</td>\n",
       "    </tr>\n",
       "    <tr>\n",
       "      <th>ITA</th>\n",
       "      <td>374.0</td>\n",
       "      <td>460.0</td>\n",
       "      <td>394.0</td>\n",
       "      <td>1228.0</td>\n",
       "    </tr>\n",
       "  </tbody>\n",
       "</table>\n",
       "</div>"
      ],
      "text/plain": [
       "Medal  Bronze    Gold  Silver  totals\n",
       "NOC                                  \n",
       "USA    1052.0  2088.0  1195.0  4335.0\n",
       "URS     584.0   838.0   627.0  2049.0\n",
       "GBR     505.0   498.0   591.0  1594.0\n",
       "FRA     475.0   378.0   461.0  1314.0\n",
       "ITA     374.0   460.0   394.0  1228.0"
      ]
     },
     "execution_count": 163,
     "metadata": {},
     "output_type": "execute_result"
    }
   ],
   "source": [
    "m_pivot.sort_values('totals', ascending=False).head()"
   ]
  },
  {
   "cell_type": "markdown",
   "metadata": {},
   "source": [
    "### 4) Understanding the column labels"
   ]
  },
  {
   "cell_type": "code",
   "execution_count": 164,
   "metadata": {},
   "outputs": [
    {
     "data": {
      "text/html": [
       "<div>\n",
       "<style scoped>\n",
       "    .dataframe tbody tr th:only-of-type {\n",
       "        vertical-align: middle;\n",
       "    }\n",
       "\n",
       "    .dataframe tbody tr th {\n",
       "        vertical-align: top;\n",
       "    }\n",
       "\n",
       "    .dataframe thead th {\n",
       "        text-align: right;\n",
       "    }\n",
       "</style>\n",
       "<table border=\"1\" class=\"dataframe\">\n",
       "  <thead>\n",
       "    <tr style=\"text-align: right;\">\n",
       "      <th></th>\n",
       "      <th>City</th>\n",
       "      <th>Edition</th>\n",
       "      <th>Sport</th>\n",
       "      <th>Discipline</th>\n",
       "      <th>Athlete</th>\n",
       "      <th>NOC</th>\n",
       "      <th>Gender</th>\n",
       "      <th>Event</th>\n",
       "      <th>Event_gender</th>\n",
       "      <th>Medal</th>\n",
       "    </tr>\n",
       "  </thead>\n",
       "  <tbody>\n",
       "    <tr>\n",
       "      <th>0</th>\n",
       "      <td>Athens</td>\n",
       "      <td>1896</td>\n",
       "      <td>Aquatics</td>\n",
       "      <td>Swimming</td>\n",
       "      <td>HAJOS, Alfred</td>\n",
       "      <td>HUN</td>\n",
       "      <td>Men</td>\n",
       "      <td>100m freestyle</td>\n",
       "      <td>M</td>\n",
       "      <td>Gold</td>\n",
       "    </tr>\n",
       "    <tr>\n",
       "      <th>1</th>\n",
       "      <td>Athens</td>\n",
       "      <td>1896</td>\n",
       "      <td>Aquatics</td>\n",
       "      <td>Swimming</td>\n",
       "      <td>HERSCHMANN, Otto</td>\n",
       "      <td>AUT</td>\n",
       "      <td>Men</td>\n",
       "      <td>100m freestyle</td>\n",
       "      <td>M</td>\n",
       "      <td>Silver</td>\n",
       "    </tr>\n",
       "  </tbody>\n",
       "</table>\n",
       "</div>"
      ],
      "text/plain": [
       "     City  Edition     Sport Discipline           Athlete  NOC Gender  \\\n",
       "0  Athens     1896  Aquatics   Swimming     HAJOS, Alfred  HUN    Men   \n",
       "1  Athens     1896  Aquatics   Swimming  HERSCHMANN, Otto  AUT    Men   \n",
       "\n",
       "            Event Event_gender   Medal  \n",
       "0  100m freestyle            M    Gold  \n",
       "1  100m freestyle            M  Silver  "
      ]
     },
     "execution_count": 164,
     "metadata": {},
     "output_type": "execute_result"
    }
   ],
   "source": [
    "medal.head(2)"
   ]
  },
  {
   "cell_type": "code",
   "execution_count": 165,
   "metadata": {},
   "outputs": [
    {
     "data": {
      "text/html": [
       "<div>\n",
       "<style scoped>\n",
       "    .dataframe tbody tr th:only-of-type {\n",
       "        vertical-align: middle;\n",
       "    }\n",
       "\n",
       "    .dataframe tbody tr th {\n",
       "        vertical-align: top;\n",
       "    }\n",
       "\n",
       "    .dataframe thead th {\n",
       "        text-align: right;\n",
       "    }\n",
       "</style>\n",
       "<table border=\"1\" class=\"dataframe\">\n",
       "  <thead>\n",
       "    <tr style=\"text-align: right;\">\n",
       "      <th></th>\n",
       "      <th>Event_gender</th>\n",
       "      <th>Gender</th>\n",
       "    </tr>\n",
       "  </thead>\n",
       "  <tbody>\n",
       "    <tr>\n",
       "      <th>0</th>\n",
       "      <td>M</td>\n",
       "      <td>Men</td>\n",
       "    </tr>\n",
       "    <tr>\n",
       "      <th>348</th>\n",
       "      <td>X</td>\n",
       "      <td>Men</td>\n",
       "    </tr>\n",
       "    <tr>\n",
       "      <th>416</th>\n",
       "      <td>W</td>\n",
       "      <td>Women</td>\n",
       "    </tr>\n",
       "    <tr>\n",
       "      <th>639</th>\n",
       "      <td>X</td>\n",
       "      <td>Women</td>\n",
       "    </tr>\n",
       "    <tr>\n",
       "      <th>23675</th>\n",
       "      <td>W</td>\n",
       "      <td>Men</td>\n",
       "    </tr>\n",
       "  </tbody>\n",
       "</table>\n",
       "</div>"
      ],
      "text/plain": [
       "      Event_gender Gender\n",
       "0                M    Men\n",
       "348              X    Men\n",
       "416              W  Women\n",
       "639              X  Women\n",
       "23675            W    Men"
      ]
     },
     "execution_count": 165,
     "metadata": {},
     "output_type": "execute_result"
    }
   ],
   "source": [
    "medal[['Event_gender', 'Gender']].drop_duplicates()"
   ]
  },
  {
   "cell_type": "code",
   "execution_count": 166,
   "metadata": {},
   "outputs": [
    {
     "data": {
      "text/html": [
       "<div>\n",
       "<style scoped>\n",
       "    .dataframe tbody tr th:only-of-type {\n",
       "        vertical-align: middle;\n",
       "    }\n",
       "\n",
       "    .dataframe tbody tr th {\n",
       "        vertical-align: top;\n",
       "    }\n",
       "\n",
       "    .dataframe thead th {\n",
       "        text-align: right;\n",
       "    }\n",
       "</style>\n",
       "<table border=\"1\" class=\"dataframe\">\n",
       "  <thead>\n",
       "    <tr style=\"text-align: right;\">\n",
       "      <th></th>\n",
       "      <th></th>\n",
       "      <th>City</th>\n",
       "      <th>Edition</th>\n",
       "      <th>Sport</th>\n",
       "      <th>Discipline</th>\n",
       "      <th>Athlete</th>\n",
       "      <th>NOC</th>\n",
       "      <th>Event</th>\n",
       "      <th>Medal</th>\n",
       "    </tr>\n",
       "    <tr>\n",
       "      <th>Event_gender</th>\n",
       "      <th>Gender</th>\n",
       "      <th></th>\n",
       "      <th></th>\n",
       "      <th></th>\n",
       "      <th></th>\n",
       "      <th></th>\n",
       "      <th></th>\n",
       "      <th></th>\n",
       "      <th></th>\n",
       "    </tr>\n",
       "  </thead>\n",
       "  <tbody>\n",
       "    <tr>\n",
       "      <th>M</th>\n",
       "      <th>Men</th>\n",
       "      <td>20067</td>\n",
       "      <td>20067</td>\n",
       "      <td>20067</td>\n",
       "      <td>20067</td>\n",
       "      <td>20067</td>\n",
       "      <td>20067</td>\n",
       "      <td>20067</td>\n",
       "      <td>20067</td>\n",
       "    </tr>\n",
       "    <tr>\n",
       "      <th rowspan=\"2\" valign=\"top\">W</th>\n",
       "      <th>Men</th>\n",
       "      <td>1</td>\n",
       "      <td>1</td>\n",
       "      <td>1</td>\n",
       "      <td>1</td>\n",
       "      <td>1</td>\n",
       "      <td>1</td>\n",
       "      <td>1</td>\n",
       "      <td>1</td>\n",
       "    </tr>\n",
       "    <tr>\n",
       "      <th>Women</th>\n",
       "      <td>7277</td>\n",
       "      <td>7277</td>\n",
       "      <td>7277</td>\n",
       "      <td>7277</td>\n",
       "      <td>7277</td>\n",
       "      <td>7277</td>\n",
       "      <td>7277</td>\n",
       "      <td>7277</td>\n",
       "    </tr>\n",
       "    <tr>\n",
       "      <th rowspan=\"2\" valign=\"top\">X</th>\n",
       "      <th>Men</th>\n",
       "      <td>1653</td>\n",
       "      <td>1653</td>\n",
       "      <td>1653</td>\n",
       "      <td>1653</td>\n",
       "      <td>1653</td>\n",
       "      <td>1653</td>\n",
       "      <td>1653</td>\n",
       "      <td>1653</td>\n",
       "    </tr>\n",
       "    <tr>\n",
       "      <th>Women</th>\n",
       "      <td>218</td>\n",
       "      <td>218</td>\n",
       "      <td>218</td>\n",
       "      <td>218</td>\n",
       "      <td>218</td>\n",
       "      <td>218</td>\n",
       "      <td>218</td>\n",
       "      <td>218</td>\n",
       "    </tr>\n",
       "  </tbody>\n",
       "</table>\n",
       "</div>"
      ],
      "text/plain": [
       "                      City  Edition  Sport  Discipline  Athlete    NOC  Event  \\\n",
       "Event_gender Gender                                                             \n",
       "M            Men     20067    20067  20067       20067    20067  20067  20067   \n",
       "W            Men         1        1      1           1        1      1      1   \n",
       "             Women    7277     7277   7277        7277     7277   7277   7277   \n",
       "X            Men      1653     1653   1653        1653     1653   1653   1653   \n",
       "             Women     218      218    218         218      218    218    218   \n",
       "\n",
       "                     Medal  \n",
       "Event_gender Gender         \n",
       "M            Men     20067  \n",
       "W            Men         1  \n",
       "             Women    7277  \n",
       "X            Men      1653  \n",
       "             Women     218  "
      ]
     },
     "execution_count": 166,
     "metadata": {},
     "output_type": "execute_result"
    }
   ],
   "source": [
    "medal.groupby(['Event_gender', 'Gender']).count()"
   ]
  },
  {
   "cell_type": "markdown",
   "metadata": {},
   "source": [
    "### 5) Locating suspicous data"
   ]
  },
  {
   "cell_type": "code",
   "execution_count": 167,
   "metadata": {},
   "outputs": [
    {
     "data": {
      "text/html": [
       "<div>\n",
       "<style scoped>\n",
       "    .dataframe tbody tr th:only-of-type {\n",
       "        vertical-align: middle;\n",
       "    }\n",
       "\n",
       "    .dataframe tbody tr th {\n",
       "        vertical-align: top;\n",
       "    }\n",
       "\n",
       "    .dataframe thead th {\n",
       "        text-align: right;\n",
       "    }\n",
       "</style>\n",
       "<table border=\"1\" class=\"dataframe\">\n",
       "  <thead>\n",
       "    <tr style=\"text-align: right;\">\n",
       "      <th></th>\n",
       "      <th>City</th>\n",
       "      <th>Edition</th>\n",
       "      <th>Sport</th>\n",
       "      <th>Discipline</th>\n",
       "      <th>Athlete</th>\n",
       "      <th>NOC</th>\n",
       "      <th>Gender</th>\n",
       "      <th>Event</th>\n",
       "      <th>Event_gender</th>\n",
       "      <th>Medal</th>\n",
       "    </tr>\n",
       "  </thead>\n",
       "  <tbody>\n",
       "    <tr>\n",
       "      <th>23675</th>\n",
       "      <td>Sydney</td>\n",
       "      <td>2000</td>\n",
       "      <td>Athletics</td>\n",
       "      <td>Athletics</td>\n",
       "      <td>CHEPCHUMBA, Joyce</td>\n",
       "      <td>KEN</td>\n",
       "      <td>Men</td>\n",
       "      <td>marathon</td>\n",
       "      <td>W</td>\n",
       "      <td>Bronze</td>\n",
       "    </tr>\n",
       "  </tbody>\n",
       "</table>\n",
       "</div>"
      ],
      "text/plain": [
       "         City  Edition      Sport Discipline            Athlete  NOC Gender  \\\n",
       "23675  Sydney     2000  Athletics  Athletics  CHEPCHUMBA, Joyce  KEN    Men   \n",
       "\n",
       "          Event Event_gender   Medal  \n",
       "23675  marathon            W  Bronze  "
      ]
     },
     "execution_count": 167,
     "metadata": {},
     "output_type": "execute_result"
    }
   ],
   "source": [
    "medal[(medal.Event_gender == 'W') & (medal.Gender == 'Men')]"
   ]
  },
  {
   "cell_type": "markdown",
   "metadata": {},
   "source": [
    "### 6) Counting distinct events"
   ]
  },
  {
   "cell_type": "code",
   "execution_count": 168,
   "metadata": {},
   "outputs": [
    {
     "data": {
      "text/plain": [
       "array(['Aquatics', 'Athletics', 'Cycling', 'Fencing', 'Gymnastics',\n",
       "       'Shooting', 'Tennis', 'Weightlifting', 'Wrestling', 'Archery',\n",
       "       'Basque Pelota', 'Cricket', 'Croquet', 'Equestrian', 'Football',\n",
       "       'Golf', 'Polo', 'Rowing', 'Rugby', 'Sailing', 'Tug of War',\n",
       "       'Boxing', 'Lacrosse', 'Roque', 'Hockey', 'Jeu de paume', 'Rackets',\n",
       "       'Skating', 'Water Motorsports', 'Modern Pentathlon', 'Ice Hockey',\n",
       "       'Basketball', 'Canoe / Kayak', 'Handball', 'Judo', 'Volleyball',\n",
       "       'Table Tennis', 'Badminton', 'Baseball', 'Softball', 'Taekwondo',\n",
       "       'Triathlon'], dtype=object)"
      ]
     },
     "execution_count": 168,
     "metadata": {},
     "output_type": "execute_result"
    }
   ],
   "source": [
    "medal.Sport.unique() # 42 distinct types of sports"
   ]
  },
  {
   "cell_type": "markdown",
   "metadata": {},
   "source": [
    "Both can be used with (axis='columns)\n",
    "- idxmax( ): row or column label where max value is located\n",
    "- idxmin( ): row or column label where min value is located"
   ]
  },
  {
   "cell_type": "markdown",
   "metadata": {},
   "source": [
    "### 7) Compute the number of distinct sports in which each country won medals."
   ]
  },
  {
   "cell_type": "code",
   "execution_count": 169,
   "metadata": {
    "scrolled": true
   },
   "outputs": [
    {
     "data": {
      "text/plain": [
       "NOC\n",
       "USA    34\n",
       "GBR    31\n",
       "FRA    28\n",
       "GER    26\n",
       "CHN    24\n",
       "Name: Sport, dtype: int64"
      ]
     },
     "execution_count": 169,
     "metadata": {},
     "output_type": "execute_result"
    }
   ],
   "source": [
    "medal.groupby('NOC')['Sport'].nunique().sort_values(ascending=False).head(5)"
   ]
  },
  {
   "cell_type": "markdown",
   "metadata": {},
   "source": [
    "### 7) Counting USA vs. USSR Cold War Olympic Sports"
   ]
  },
  {
   "cell_type": "code",
   "execution_count": 170,
   "metadata": {
    "scrolled": true
   },
   "outputs": [
    {
     "data": {
      "text/html": [
       "<div>\n",
       "<style scoped>\n",
       "    .dataframe tbody tr th:only-of-type {\n",
       "        vertical-align: middle;\n",
       "    }\n",
       "\n",
       "    .dataframe tbody tr th {\n",
       "        vertical-align: top;\n",
       "    }\n",
       "\n",
       "    .dataframe thead th {\n",
       "        text-align: right;\n",
       "    }\n",
       "</style>\n",
       "<table border=\"1\" class=\"dataframe\">\n",
       "  <thead>\n",
       "    <tr style=\"text-align: right;\">\n",
       "      <th></th>\n",
       "      <th>City</th>\n",
       "      <th>Edition</th>\n",
       "      <th>Sport</th>\n",
       "      <th>Discipline</th>\n",
       "      <th>Athlete</th>\n",
       "      <th>NOC</th>\n",
       "      <th>Gender</th>\n",
       "      <th>Event</th>\n",
       "      <th>Event_gender</th>\n",
       "      <th>Medal</th>\n",
       "    </tr>\n",
       "  </thead>\n",
       "  <tbody>\n",
       "    <tr>\n",
       "      <th>0</th>\n",
       "      <td>Athens</td>\n",
       "      <td>1896</td>\n",
       "      <td>Aquatics</td>\n",
       "      <td>Swimming</td>\n",
       "      <td>HAJOS, Alfred</td>\n",
       "      <td>HUN</td>\n",
       "      <td>Men</td>\n",
       "      <td>100m freestyle</td>\n",
       "      <td>M</td>\n",
       "      <td>Gold</td>\n",
       "    </tr>\n",
       "    <tr>\n",
       "      <th>1</th>\n",
       "      <td>Athens</td>\n",
       "      <td>1896</td>\n",
       "      <td>Aquatics</td>\n",
       "      <td>Swimming</td>\n",
       "      <td>HERSCHMANN, Otto</td>\n",
       "      <td>AUT</td>\n",
       "      <td>Men</td>\n",
       "      <td>100m freestyle</td>\n",
       "      <td>M</td>\n",
       "      <td>Silver</td>\n",
       "    </tr>\n",
       "    <tr>\n",
       "      <th>2</th>\n",
       "      <td>Athens</td>\n",
       "      <td>1896</td>\n",
       "      <td>Aquatics</td>\n",
       "      <td>Swimming</td>\n",
       "      <td>DRIVAS, Dimitrios</td>\n",
       "      <td>GRE</td>\n",
       "      <td>Men</td>\n",
       "      <td>100m freestyle for sailors</td>\n",
       "      <td>M</td>\n",
       "      <td>Bronze</td>\n",
       "    </tr>\n",
       "  </tbody>\n",
       "</table>\n",
       "</div>"
      ],
      "text/plain": [
       "     City  Edition     Sport Discipline            Athlete  NOC Gender  \\\n",
       "0  Athens     1896  Aquatics   Swimming      HAJOS, Alfred  HUN    Men   \n",
       "1  Athens     1896  Aquatics   Swimming   HERSCHMANN, Otto  AUT    Men   \n",
       "2  Athens     1896  Aquatics   Swimming  DRIVAS, Dimitrios  GRE    Men   \n",
       "\n",
       "                        Event Event_gender   Medal  \n",
       "0              100m freestyle            M    Gold  \n",
       "1              100m freestyle            M  Silver  \n",
       "2  100m freestyle for sailors            M  Bronze  "
      ]
     },
     "execution_count": 170,
     "metadata": {},
     "output_type": "execute_result"
    }
   ],
   "source": [
    "medal.head(3)"
   ]
  },
  {
   "cell_type": "code",
   "execution_count": 171,
   "metadata": {},
   "outputs": [],
   "source": [
    "# Select the years during the cold war 1952-1988\n",
    "coldwar = (medal.Edition >= 1952) & (medal.Edition <= 1988)\n",
    "# extract the rows whose countries are 'USA' or 'USR'\n",
    "countries = medal.NOC.isin(['USA', 'URS'])"
   ]
  },
  {
   "cell_type": "code",
   "execution_count": 172,
   "metadata": {},
   "outputs": [
    {
     "data": {
      "text/plain": [
       "NOC\n",
       "URS    21\n",
       "USA    20\n",
       "Name: Sport, dtype: int64"
      ]
     },
     "execution_count": 172,
     "metadata": {},
     "output_type": "execute_result"
    }
   ],
   "source": [
    "medal.loc[coldwar & countries].groupby('NOC')['Sport'].nunique().sort_values(ascending=False)"
   ]
  },
  {
   "cell_type": "markdown",
   "metadata": {},
   "source": [
    "### 8) Counting USA vs. USSR Cold War Olympic Medals"
   ]
  },
  {
   "cell_type": "code",
   "execution_count": 173,
   "metadata": {},
   "outputs": [
    {
     "data": {
      "text/plain": [
       "URS    8\n",
       "USA    2\n",
       "dtype: int64"
      ]
     },
     "execution_count": 173,
     "metadata": {},
     "output_type": "execute_result"
    }
   ],
   "source": [
    "medal.pivot_table(index='Edition', columns='NOC', values='Athlete', aggfunc='count').loc[1952:1988, ['USA', 'URS']].idxmax(axis='columns').value_counts()"
   ]
  },
  {
   "cell_type": "markdown",
   "metadata": {},
   "source": [
    "### 9) Line plots"
   ]
  },
  {
   "cell_type": "code",
   "execution_count": 174,
   "metadata": {},
   "outputs": [
    {
     "data": {
      "image/png": "[encoded data removed]",
      "text/plain": [
       "<Figure size 432x288 with 1 Axes>"
      ]
     },
     "metadata": {
      "needs_background": "light"
     },
     "output_type": "display_data"
    }
   ],
   "source": [
    "medal.groupby('Edition')['Athlete'].count().plot(kind='line', marker='.')\n",
    "plt.show()"
   ]
  },
  {
   "cell_type": "markdown",
   "metadata": {},
   "source": [
    "### 10) Grouping data of France"
   ]
  },
  {
   "cell_type": "code",
   "execution_count": 175,
   "metadata": {},
   "outputs": [
    {
     "data": {
      "text/plain": [
       "Edition  Medal \n",
       "1896     Bronze     2\n",
       "         Gold       5\n",
       "         Silver     4\n",
       "1900     Bronze    53\n",
       "         Gold      46\n",
       "Name: Athlete, dtype: int64"
      ]
     },
     "execution_count": 175,
     "metadata": {},
     "output_type": "execute_result"
    }
   ],
   "source": [
    "medal[medal.NOC == 'FRA'].groupby(['Edition', 'Medal'])['Athlete'].count().head()"
   ]
  },
  {
   "cell_type": "code",
   "execution_count": 176,
   "metadata": {},
   "outputs": [
    {
     "data": {
      "text/html": [
       "<div>\n",
       "<style scoped>\n",
       "    .dataframe tbody tr th:only-of-type {\n",
       "        vertical-align: middle;\n",
       "    }\n",
       "\n",
       "    .dataframe tbody tr th {\n",
       "        vertical-align: top;\n",
       "    }\n",
       "\n",
       "    .dataframe thead th {\n",
       "        text-align: right;\n",
       "    }\n",
       "</style>\n",
       "<table border=\"1\" class=\"dataframe\">\n",
       "  <thead>\n",
       "    <tr style=\"text-align: right;\">\n",
       "      <th>Medal</th>\n",
       "      <th>Bronze</th>\n",
       "      <th>Gold</th>\n",
       "      <th>Silver</th>\n",
       "    </tr>\n",
       "    <tr>\n",
       "      <th>Edition</th>\n",
       "      <th></th>\n",
       "      <th></th>\n",
       "      <th></th>\n",
       "    </tr>\n",
       "  </thead>\n",
       "  <tbody>\n",
       "    <tr>\n",
       "      <th>1896</th>\n",
       "      <td>2.0</td>\n",
       "      <td>5.0</td>\n",
       "      <td>4.0</td>\n",
       "    </tr>\n",
       "    <tr>\n",
       "      <th>1900</th>\n",
       "      <td>53.0</td>\n",
       "      <td>46.0</td>\n",
       "      <td>86.0</td>\n",
       "    </tr>\n",
       "    <tr>\n",
       "      <th>1908</th>\n",
       "      <td>21.0</td>\n",
       "      <td>9.0</td>\n",
       "      <td>5.0</td>\n",
       "    </tr>\n",
       "    <tr>\n",
       "      <th>1912</th>\n",
       "      <td>5.0</td>\n",
       "      <td>10.0</td>\n",
       "      <td>10.0</td>\n",
       "    </tr>\n",
       "    <tr>\n",
       "      <th>1920</th>\n",
       "      <td>55.0</td>\n",
       "      <td>13.0</td>\n",
       "      <td>73.0</td>\n",
       "    </tr>\n",
       "  </tbody>\n",
       "</table>\n",
       "</div>"
      ],
      "text/plain": [
       "Medal    Bronze  Gold  Silver\n",
       "Edition                      \n",
       "1896        2.0   5.0     4.0\n",
       "1900       53.0  46.0    86.0\n",
       "1908       21.0   9.0     5.0\n",
       "1912        5.0  10.0    10.0\n",
       "1920       55.0  13.0    73.0"
      ]
     },
     "execution_count": 176,
     "metadata": {},
     "output_type": "execute_result"
    }
   ],
   "source": [
    "medal[medal.NOC == 'FRA'].groupby(['Edition', 'Medal'])['Athlete'].count().unstack().head()"
   ]
  },
  {
   "cell_type": "code",
   "execution_count": 177,
   "metadata": {},
   "outputs": [
    {
     "data": {
      "image/png": "[encoded data removed]",
      "text/plain": [
       "<Figure size 432x288 with 1 Axes>"
      ]
     },
     "metadata": {
      "needs_background": "light"
     },
     "output_type": "display_data"
    }
   ],
   "source": [
    "medal[medal.NOC == 'FRA'].groupby(['Edition', 'Medal'])['Athlete'].count().unstack().plot(kind='line', marker='.')\n",
    "plt.show()"
   ]
  },
  {
   "cell_type": "markdown",
   "metadata": {},
   "source": [
    "### 11) Visualizing USA Medal Counts by Edition: Line Plot"
   ]
  },
  {
   "cell_type": "code",
   "execution_count": 178,
   "metadata": {},
   "outputs": [
    {
     "data": {
      "text/plain": [
       "<matplotlib.axes._subplots.AxesSubplot at 0x11cd900b8>"
      ]
     },
     "execution_count": 178,
     "metadata": {},
     "output_type": "execute_result"
    },
    {
     "data": {
      "image/png": "[encoded data removed]",
      "text/plain": [
       "<Figure size 432x288 with 1 Axes>"
      ]
     },
     "metadata": {
      "needs_background": "light"
     },
     "output_type": "display_data"
    }
   ],
   "source": [
    "medal[medal.NOC=='USA'].groupby(['Edition', 'Medal'])['Athlete'].count().unstack(level='Medal').plot()"
   ]
  },
  {
   "cell_type": "markdown",
   "metadata": {},
   "source": [
    "### 12) Visualizing USA Medal Counts by Edition: Area Plot"
   ]
  },
  {
   "cell_type": "code",
   "execution_count": 179,
   "metadata": {},
   "outputs": [
    {
     "data": {
      "text/plain": [
       "<matplotlib.axes._subplots.AxesSubplot at 0x11e05f6d8>"
      ]
     },
     "execution_count": 179,
     "metadata": {},
     "output_type": "execute_result"
    },
    {
     "data": {
      "image/png": "[encoded data removed]",
      "text/plain": [
       "<Figure size 432x288 with 1 Axes>"
      ]
     },
     "metadata": {
      "needs_background": "light"
     },
     "output_type": "display_data"
    }
   ],
   "source": [
    "medal[medal.NOC=='USA'].groupby(['Edition', 'Medal'])['Athlete'].count().unstack(level='Medal').plot.area()"
   ]
  },
  {
   "cell_type": "markdown",
   "metadata": {},
   "source": [
    "### 13) Visualizing USA Medal Counts by Edition: Area Plot with Ordered Medals"
   ]
  },
  {
   "cell_type": "code",
   "execution_count": 181,
   "metadata": {},
   "outputs": [
    {
     "data": {
      "text/plain": [
       "<matplotlib.axes._subplots.AxesSubplot at 0x11e09c940>"
      ]
     },
     "execution_count": 181,
     "metadata": {},
     "output_type": "execute_result"
    },
    {
     "data": {
      "image/png": "[encoded data removed]",
      "text/plain": [
       "<Figure size 432x288 with 1 Axes>"
      ]
     },
     "metadata": {
      "needs_background": "light"
     },
     "output_type": "display_data"
    }
   ],
   "source": [
    "medal.Medal = pd.Categorical(values=medal.Medal, categories=['Bronze', 'Silver', 'Gold'], ordered=True)\n",
    "medal[medal.NOC=='USA'].groupby(['Edition', 'Medal'])['Athlete'].count().unstack(level='Medal').plot.area()"
   ]
  },
  {
   "cell_type": "code",
   "execution_count": null,
   "metadata": {},
   "outputs": [],
   "source": []
  }
 ],
 "metadata": {
  "kernelspec": {
   "display_name": "Python 3",
   "language": "python",
   "name": "python3"
  },
  "language_info": {
   "codemirror_mode": {
    "name": "ipython",
    "version": 3
   },
   "file_extension": ".py",
   "mimetype": "text/x-python",
   "name": "python",
   "nbconvert_exporter": "python",
   "pygments_lexer": "ipython3",
   "version": "3.7.3"
  }
 },
 "nbformat": 4,
 "nbformat_minor": 2
}
