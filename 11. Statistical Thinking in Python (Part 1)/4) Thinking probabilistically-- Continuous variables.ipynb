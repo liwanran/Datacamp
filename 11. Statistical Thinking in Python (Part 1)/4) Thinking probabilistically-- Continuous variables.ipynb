{
 "cells": [
  {
   "cell_type": "markdown",
   "metadata": {},
   "source": [
    "https://www.datacamp.com/courses/statistical-thinking-in-python-part-1\n",
    "# 1. Probability density functions (PDF)\n",
    "## Continuous variables: quantities that can take any value, not just discrete values. e.g. the speed of a train.\n",
    "## Continuous analog to the PMF. The PDF is a mathematical description of the relative likelihood of observing a value of a continuous varible. The probability is given by the area under the PDF.\n",
    "## Normal CDF: continuous distribution functions\n",
    "# 2. Introduction to the Normal distribution\n",
    "## It describes a continuous variable whose PDF is symmetric and has a single peak. It is parametrized by 2 parameters. The mean determines where the center of the peak is. The standard deviation is a measure of how wide the peak is, or how spread out the data are."
   ]
  },
  {
   "cell_type": "code",
   "execution_count": 47,
   "metadata": {},
   "outputs": [],
   "source": [
    "import pandas as pd\n",
    "import numpy as np\n",
    "import matplotlib.pyplot as plt\n",
    "import seaborn as sns"
   ]
  },
  {
   "cell_type": "code",
   "execution_count": 48,
   "metadata": {},
   "outputs": [
    {
     "data": {
      "text/html": [
       "<div>\n",
       "<style scoped>\n",
       "    .dataframe tbody tr th:only-of-type {\n",
       "        vertical-align: middle;\n",
       "    }\n",
       "\n",
       "    .dataframe tbody tr th {\n",
       "        vertical-align: top;\n",
       "    }\n",
       "\n",
       "    .dataframe thead th {\n",
       "        text-align: right;\n",
       "    }\n",
       "</style>\n",
       "<table border=\"1\" class=\"dataframe\">\n",
       "  <thead>\n",
       "    <tr style=\"text-align: right;\">\n",
       "      <th></th>\n",
       "      <th>Unnamed: 0</th>\n",
       "      <th>date</th>\n",
       "      <th>distinctness of image</th>\n",
       "      <th>temperature (F)</th>\n",
       "      <th>position of deflected image</th>\n",
       "      <th>position of slit</th>\n",
       "      <th>displacement of image in divisions</th>\n",
       "      <th>difference between greatest and least</th>\n",
       "      <th>B</th>\n",
       "      <th>Cor</th>\n",
       "      <th>revolutions per second</th>\n",
       "      <th>radius (ft)</th>\n",
       "      <th>value of one turn of screw</th>\n",
       "      <th>velocity of light in air (km/s)</th>\n",
       "      <th>remarks</th>\n",
       "    </tr>\n",
       "  </thead>\n",
       "  <tbody>\n",
       "    <tr>\n",
       "      <th>0</th>\n",
       "      <td>0</td>\n",
       "      <td>June  5</td>\n",
       "      <td>3</td>\n",
       "      <td>76</td>\n",
       "      <td>114.85</td>\n",
       "      <td>0.300</td>\n",
       "      <td>114.55</td>\n",
       "      <td>0.17</td>\n",
       "      <td>1.423</td>\n",
       "      <td>-0.132</td>\n",
       "      <td>257.36</td>\n",
       "      <td>28.672</td>\n",
       "      <td>0.99614</td>\n",
       "      <td>299850</td>\n",
       "      <td>Electric light.</td>\n",
       "    </tr>\n",
       "    <tr>\n",
       "      <th>1</th>\n",
       "      <td>1</td>\n",
       "      <td>June  7</td>\n",
       "      <td>2</td>\n",
       "      <td>72</td>\n",
       "      <td>114.64</td>\n",
       "      <td>0.074</td>\n",
       "      <td>114.56</td>\n",
       "      <td>0.10</td>\n",
       "      <td>1.533</td>\n",
       "      <td>-0.084</td>\n",
       "      <td>257.52</td>\n",
       "      <td>28.655</td>\n",
       "      <td>0.99614</td>\n",
       "      <td>299740</td>\n",
       "      <td>P.M. Frame inclined at various angles</td>\n",
       "    </tr>\n",
       "    <tr>\n",
       "      <th>2</th>\n",
       "      <td>2</td>\n",
       "      <td>June  7</td>\n",
       "      <td>2</td>\n",
       "      <td>72</td>\n",
       "      <td>114.58</td>\n",
       "      <td>0.074</td>\n",
       "      <td>114.50</td>\n",
       "      <td>0.08</td>\n",
       "      <td>1.533</td>\n",
       "      <td>-0.084</td>\n",
       "      <td>257.52</td>\n",
       "      <td>28.647</td>\n",
       "      <td>0.99614</td>\n",
       "      <td>299900</td>\n",
       "      <td>P.M. Frame inclined at various angles</td>\n",
       "    </tr>\n",
       "  </tbody>\n",
       "</table>\n",
       "</div>"
      ],
      "text/plain": [
       "   Unnamed: 0        date  distinctness of image  temperature (F)  \\\n",
       "0           0     June  5                      3               76   \n",
       "1           1     June  7                      2               72   \n",
       "2           2     June  7                      2               72   \n",
       "\n",
       "   position of deflected image  position of slit  \\\n",
       "0                       114.85             0.300   \n",
       "1                       114.64             0.074   \n",
       "2                       114.58             0.074   \n",
       "\n",
       "  displacement of image in divisions difference between greatest and least  \\\n",
       "0                             114.55                                  0.17   \n",
       "1                             114.56                                  0.10   \n",
       "2                             114.50                                  0.08   \n",
       "\n",
       "       B    Cor revolutions per second  radius (ft)  \\\n",
       "0  1.423 -0.132                 257.36       28.672   \n",
       "1  1.533 -0.084                 257.52       28.655   \n",
       "2  1.533 -0.084                 257.52       28.647   \n",
       "\n",
       "   value of one turn of screw  velocity of light in air (km/s)  \\\n",
       "0                     0.99614                           299850   \n",
       "1                     0.99614                           299740   \n",
       "2                     0.99614                           299900   \n",
       "\n",
       "                                 remarks  \n",
       "0                        Electric light.  \n",
       "1  P.M. Frame inclined at various angles  \n",
       "2  P.M. Frame inclined at various angles  "
      ]
     },
     "execution_count": 48,
     "metadata": {},
     "output_type": "execute_result"
    }
   ],
   "source": [
    "light = pd.read_csv('datasets/michelson_speed_of_light.csv')\n",
    "light.head(3)"
   ]
  },
  {
   "cell_type": "code",
   "execution_count": 49,
   "metadata": {},
   "outputs": [
    {
     "data": {
      "text/plain": [
       "(100, 15)"
      ]
     },
     "execution_count": 49,
     "metadata": {},
     "output_type": "execute_result"
    }
   ],
   "source": [
    "light.shape"
   ]
  },
  {
   "cell_type": "code",
   "execution_count": 50,
   "metadata": {},
   "outputs": [],
   "source": [
    "speed = light['velocity of light in air (km/s)']"
   ]
  },
  {
   "cell_type": "code",
   "execution_count": 51,
   "metadata": {},
   "outputs": [
    {
     "name": "stderr",
     "output_type": "stream",
     "text": [
      "/anaconda3/lib/python3.7/site-packages/matplotlib/axes/_axes.py:6521: MatplotlibDeprecationWarning: \n",
      "The 'normed' kwarg was deprecated in Matplotlib 2.1 and will be removed in 3.1. Use 'density' instead.\n",
      "  alternative=\"'density'\", removal=\"3.1\")\n"
     ]
    },
    {
     "data": {
      "text/plain": [
       "(array([0.00044444, 0.        , 0.00155556, 0.00244444, 0.006     ,\n",
       "        0.00555556, 0.00222222, 0.00244444, 0.00133333, 0.00022222]),\n",
       " array([299620., 299665., 299710., 299755., 299800., 299845., 299890.,\n",
       "        299935., 299980., 300025., 300070.]),\n",
       " <a list of 10 Patch objects>)"
      ]
     },
     "execution_count": 51,
     "metadata": {},
     "output_type": "execute_result"
    },
    {
     "data": {
      "image/png": "[encoded data removed]",
      "text/plain": [
       "<Figure size 432x288 with 1 Axes>"
      ]
     },
     "metadata": {},
     "output_type": "display_data"
    }
   ],
   "source": [
    "sns.set()\n",
    "plt.hist(speed, normed=True)"
   ]
  },
  {
   "cell_type": "code",
   "execution_count": 52,
   "metadata": {},
   "outputs": [],
   "source": [
    "def f(m):\n",
    "    n=len(m)\n",
    "    x=np.sort(m)\n",
    "    y=np.arange(1, 1+n)/n\n",
    "    return x, y"
   ]
  },
  {
   "cell_type": "code",
   "execution_count": 53,
   "metadata": {},
   "outputs": [
    {
     "data": {
      "text/plain": [
       "299852.4"
      ]
     },
     "execution_count": 53,
     "metadata": {},
     "output_type": "execute_result"
    }
   ],
   "source": [
    "mean = np.mean(speed)\n",
    "mean"
   ]
  },
  {
   "cell_type": "code",
   "execution_count": 54,
   "metadata": {
    "scrolled": true
   },
   "outputs": [
    {
     "data": {
      "text/plain": [
       "78.61450247886843"
      ]
     },
     "execution_count": 54,
     "metadata": {},
     "output_type": "execute_result"
    }
   ],
   "source": [
    "std = np.std(speed)\n",
    "std"
   ]
  },
  {
   "cell_type": "markdown",
   "metadata": {},
   "source": [
    "Plot the theoretical and empirical CDFs on the same plot."
   ]
  },
  {
   "cell_type": "code",
   "execution_count": 55,
   "metadata": {},
   "outputs": [
    {
     "data": {
      "image/png": "[encoded data removed]",
      "text/plain": [
       "<Figure size 432x288 with 1 Axes>"
      ]
     },
     "metadata": {},
     "output_type": "display_data"
    }
   ],
   "source": [
    "samples = np.random.normal(mean, std, size=10000)\n",
    "x, y = f(speed)\n",
    "x_theo, y_theo = f(samples)\n",
    "\n",
    "sns.set()\n",
    "plt.plot(x_theo, y_theo)\n",
    "plt.plot(x, y, marker='.', linestyle='none')\n",
    "plt.xlabel('Speed of light (km/s)')\n",
    "plt.ylabel('CDF')\n",
    "plt.show()"
   ]
  },
  {
   "cell_type": "markdown",
   "metadata": {},
   "source": [
    "# Practice 2\n",
    "## 1) The Normal PDF"
   ]
  },
  {
   "cell_type": "code",
   "execution_count": 56,
   "metadata": {},
   "outputs": [
    {
     "name": "stderr",
     "output_type": "stream",
     "text": [
      "/anaconda3/lib/python3.7/site-packages/matplotlib/axes/_axes.py:6521: MatplotlibDeprecationWarning: \n",
      "The 'normed' kwarg was deprecated in Matplotlib 2.1 and will be removed in 3.1. Use 'density' instead.\n",
      "  alternative=\"'density'\", removal=\"3.1\")\n",
      "/anaconda3/lib/python3.7/site-packages/matplotlib/axes/_axes.py:6521: MatplotlibDeprecationWarning: \n",
      "The 'normed' kwarg was deprecated in Matplotlib 2.1 and will be removed in 3.1. Use 'density' instead.\n",
      "  alternative=\"'density'\", removal=\"3.1\")\n",
      "/anaconda3/lib/python3.7/site-packages/matplotlib/axes/_axes.py:6521: MatplotlibDeprecationWarning: \n",
      "The 'normed' kwarg was deprecated in Matplotlib 2.1 and will be removed in 3.1. Use 'density' instead.\n",
      "  alternative=\"'density'\", removal=\"3.1\")\n"
     ]
    },
    {
     "data": {
      "image/png": "[encoded data removed]",
      "text/plain": [
       "<Figure size 432x288 with 1 Axes>"
      ]
     },
     "metadata": {},
     "output_type": "display_data"
    }
   ],
   "source": [
    "# Draw 100,000 samples from a Normal distribution that has a mean of 20 and a standard deviation of 1. \n",
    "std1 = np.random.normal(20, 1, size=100000)\n",
    "std2 = np.random.normal(20, 3, size=100000)\n",
    "std3 = np.random.normal(20, 10, size=100000)\n",
    "\n",
    "plt.hist(std1, normed=True, histtype='step', bins=100)\n",
    "plt.hist(std2, normed=True, histtype='step', bins=100)\n",
    "plt.hist(std3, normed=True, histtype='step', bins=100)\n",
    "\n",
    "plt.legend(('std=1', 'std=3', 'std=10'))\n",
    "plt.ylim(-0.01, 0.42)\n",
    "plt.show()"
   ]
  },
  {
   "cell_type": "markdown",
   "metadata": {},
   "source": [
    "## 2) The Normal CDF"
   ]
  },
  {
   "cell_type": "code",
   "execution_count": 57,
   "metadata": {},
   "outputs": [
    {
     "data": {
      "image/png": "[encoded data removed]",
      "text/plain": [
       "<Figure size 432x288 with 1 Axes>"
      ]
     },
     "metadata": {},
     "output_type": "display_data"
    }
   ],
   "source": [
    "x1, y1 = f(std1)\n",
    "x2, y2 = f(std2)\n",
    "x3, y3 = f(std3)\n",
    "\n",
    "plt.plot(x1, y1, marker='.', linestyle='none')\n",
    "plt.plot(x2, y2, marker='.', linestyle='none')\n",
    "plt.plot(x3, y3, marker='.', linestyle='none')\n",
    "\n",
    "plt.legend(('std=1', 'std=3', 'std=10'), loc='lower right')\n",
    "plt.show()"
   ]
  },
  {
   "cell_type": "markdown",
   "metadata": {},
   "source": [
    "# 3. The Normal distribution: Properties and warnings???\n"
   ]
  },
  {
   "cell_type": "code",
   "execution_count": 151,
   "metadata": {},
   "outputs": [
    {
     "data": {
      "text/html": [
       "<div>\n",
       "<style scoped>\n",
       "    .dataframe tbody tr th:only-of-type {\n",
       "        vertical-align: middle;\n",
       "    }\n",
       "\n",
       "    .dataframe tbody tr th {\n",
       "        vertical-align: top;\n",
       "    }\n",
       "\n",
       "    .dataframe thead th {\n",
       "        text-align: right;\n",
       "    }\n",
       "</style>\n",
       "<table border=\"1\" class=\"dataframe\">\n",
       "  <thead>\n",
       "    <tr style=\"text-align: right;\">\n",
       "      <th></th>\n",
       "      <th>Year</th>\n",
       "      <th>Winner</th>\n",
       "      <th>Jockey</th>\n",
       "      <th>Trainer</th>\n",
       "      <th>Owner</th>\n",
       "      <th>Time</th>\n",
       "      <th>Track</th>\n",
       "      <th>miles</th>\n",
       "    </tr>\n",
       "  </thead>\n",
       "  <tbody>\n",
       "    <tr>\n",
       "      <th>0</th>\n",
       "      <td>2016</td>\n",
       "      <td>Creator</td>\n",
       "      <td>Irad Ortiz, Jr</td>\n",
       "      <td>Steve Asmussen</td>\n",
       "      <td>WinStar Farm LLC</td>\n",
       "      <td>2:28.51</td>\n",
       "      <td>Belmont</td>\n",
       "      <td>1.5</td>\n",
       "    </tr>\n",
       "    <tr>\n",
       "      <th>1</th>\n",
       "      <td>2015</td>\n",
       "      <td>American Pharoah</td>\n",
       "      <td>Victor Espinoza</td>\n",
       "      <td>Bob Baffert</td>\n",
       "      <td>Zayat Stables, LLC</td>\n",
       "      <td>2:26.65</td>\n",
       "      <td>Belmont</td>\n",
       "      <td>1.5</td>\n",
       "    </tr>\n",
       "    <tr>\n",
       "      <th>2</th>\n",
       "      <td>2014</td>\n",
       "      <td>Tonalist</td>\n",
       "      <td>Joel Rosario</td>\n",
       "      <td>Christophe Clement</td>\n",
       "      <td>Robert S. Evans</td>\n",
       "      <td>2:28.52</td>\n",
       "      <td>Belmont</td>\n",
       "      <td>1.5</td>\n",
       "    </tr>\n",
       "  </tbody>\n",
       "</table>\n",
       "</div>"
      ],
      "text/plain": [
       "   Year            Winner           Jockey             Trainer  \\\n",
       "0  2016           Creator   Irad Ortiz, Jr      Steve Asmussen   \n",
       "1  2015  American Pharoah  Victor Espinoza         Bob Baffert   \n",
       "2  2014          Tonalist     Joel Rosario  Christophe Clement   \n",
       "\n",
       "                Owner     Time    Track  miles  \n",
       "0    WinStar Farm LLC  2:28.51  Belmont    1.5  \n",
       "1  Zayat Stables, LLC  2:26.65  Belmont    1.5  \n",
       "2     Robert S. Evans  2:28.52  Belmont    1.5  "
      ]
     },
     "execution_count": 151,
     "metadata": {},
     "output_type": "execute_result"
    }
   ],
   "source": [
    "belmont = pd.read_csv('datasets/belmont.csv')\n",
    "belmont.head(3)"
   ]
  },
  {
   "cell_type": "code",
   "execution_count": 152,
   "metadata": {},
   "outputs": [
    {
     "data": {
      "text/html": [
       "<div>\n",
       "<style scoped>\n",
       "    .dataframe tbody tr th:only-of-type {\n",
       "        vertical-align: middle;\n",
       "    }\n",
       "\n",
       "    .dataframe tbody tr th {\n",
       "        vertical-align: top;\n",
       "    }\n",
       "\n",
       "    .dataframe thead th {\n",
       "        text-align: right;\n",
       "    }\n",
       "</style>\n",
       "<table border=\"1\" class=\"dataframe\">\n",
       "  <thead>\n",
       "    <tr style=\"text-align: right;\">\n",
       "      <th></th>\n",
       "      <th>Year</th>\n",
       "      <th>Winner</th>\n",
       "      <th>Jockey</th>\n",
       "      <th>Trainer</th>\n",
       "      <th>Owner</th>\n",
       "      <th>Time</th>\n",
       "      <th>Track</th>\n",
       "      <th>miles</th>\n",
       "    </tr>\n",
       "  </thead>\n",
       "  <tbody>\n",
       "    <tr>\n",
       "      <th>86</th>\n",
       "      <td>1930</td>\n",
       "      <td>Gallant Fox</td>\n",
       "      <td>Earl Sande</td>\n",
       "      <td>Jim Fitzsimmons</td>\n",
       "      <td>Belair Stud</td>\n",
       "      <td>2:31.60</td>\n",
       "      <td>Belmont</td>\n",
       "      <td>1.5</td>\n",
       "    </tr>\n",
       "    <tr>\n",
       "      <th>87</th>\n",
       "      <td>1929</td>\n",
       "      <td>Blue Larkspur</td>\n",
       "      <td>Mack Garner</td>\n",
       "      <td>Herbert J. Thompson</td>\n",
       "      <td>Edward R. Bradley</td>\n",
       "      <td>2:32.80</td>\n",
       "      <td>Belmont</td>\n",
       "      <td>1.5</td>\n",
       "    </tr>\n",
       "    <tr>\n",
       "      <th>88</th>\n",
       "      <td>1928</td>\n",
       "      <td>Vito</td>\n",
       "      <td>Clarence Kummer</td>\n",
       "      <td>Max Hirsch</td>\n",
       "      <td>Alfred H. Cosden</td>\n",
       "      <td>2:33.20</td>\n",
       "      <td>Belmont</td>\n",
       "      <td>1.5</td>\n",
       "    </tr>\n",
       "    <tr>\n",
       "      <th>89</th>\n",
       "      <td>1927</td>\n",
       "      <td>Chance Shot</td>\n",
       "      <td>Earl Sande</td>\n",
       "      <td>Pete Coyne</td>\n",
       "      <td>Joseph E. Widener</td>\n",
       "      <td>2:32.40</td>\n",
       "      <td>Belmont</td>\n",
       "      <td>1.5</td>\n",
       "    </tr>\n",
       "    <tr>\n",
       "      <th>90</th>\n",
       "      <td>1926</td>\n",
       "      <td>Crusader</td>\n",
       "      <td>Albert Johnson</td>\n",
       "      <td>George Conway</td>\n",
       "      <td>Glen Riddle Farm</td>\n",
       "      <td>2:32.20</td>\n",
       "      <td>Belmont</td>\n",
       "      <td>1.5</td>\n",
       "    </tr>\n",
       "  </tbody>\n",
       "</table>\n",
       "</div>"
      ],
      "text/plain": [
       "    Year         Winner           Jockey              Trainer  \\\n",
       "86  1930    Gallant Fox       Earl Sande      Jim Fitzsimmons   \n",
       "87  1929  Blue Larkspur      Mack Garner  Herbert J. Thompson   \n",
       "88  1928           Vito  Clarence Kummer           Max Hirsch   \n",
       "89  1927    Chance Shot       Earl Sande           Pete Coyne   \n",
       "90  1926       Crusader   Albert Johnson        George Conway   \n",
       "\n",
       "                Owner     Time    Track  miles  \n",
       "86        Belair Stud  2:31.60  Belmont    1.5  \n",
       "87  Edward R. Bradley  2:32.80  Belmont    1.5  \n",
       "88   Alfred H. Cosden  2:33.20  Belmont    1.5  \n",
       "89  Joseph E. Widener  2:32.40  Belmont    1.5  \n",
       "90   Glen Riddle Farm  2:32.20  Belmont    1.5  "
      ]
     },
     "execution_count": 152,
     "metadata": {},
     "output_type": "execute_result"
    }
   ],
   "source": [
    "belmont.tail()"
   ]
  },
  {
   "cell_type": "code",
   "execution_count": 153,
   "metadata": {},
   "outputs": [
    {
     "name": "stdout",
     "output_type": "stream",
     "text": [
      "<class 'pandas.core.frame.DataFrame'>\n",
      "RangeIndex: 91 entries, 0 to 90\n",
      "Data columns (total 8 columns):\n",
      "Year       91 non-null int64\n",
      "Winner     91 non-null object\n",
      "Jockey     91 non-null object\n",
      "Trainer    91 non-null object\n",
      "Owner      91 non-null object\n",
      "Time       91 non-null object\n",
      "Track      91 non-null object\n",
      "miles      91 non-null float64\n",
      "dtypes: float64(1), int64(1), object(6)\n",
      "memory usage: 5.8+ KB\n"
     ]
    }
   ],
   "source": [
    "belmont.info()"
   ]
  },
  {
   "cell_type": "code",
   "execution_count": 154,
   "metadata": {
    "scrolled": false
   },
   "outputs": [
    {
     "data": {
      "text/html": [
       "<div>\n",
       "<style scoped>\n",
       "    .dataframe tbody tr th:only-of-type {\n",
       "        vertical-align: middle;\n",
       "    }\n",
       "\n",
       "    .dataframe tbody tr th {\n",
       "        vertical-align: top;\n",
       "    }\n",
       "\n",
       "    .dataframe thead th {\n",
       "        text-align: right;\n",
       "    }\n",
       "</style>\n",
       "<table border=\"1\" class=\"dataframe\">\n",
       "  <thead>\n",
       "    <tr style=\"text-align: right;\">\n",
       "      <th></th>\n",
       "      <th>Year</th>\n",
       "      <th>Winner</th>\n",
       "      <th>Jockey</th>\n",
       "      <th>Trainer</th>\n",
       "      <th>Owner</th>\n",
       "      <th>Time</th>\n",
       "      <th>Track</th>\n",
       "      <th>miles</th>\n",
       "    </tr>\n",
       "  </thead>\n",
       "  <tbody>\n",
       "    <tr>\n",
       "      <th>0</th>\n",
       "      <td>2016</td>\n",
       "      <td>Creator</td>\n",
       "      <td>Irad Ortiz, Jr</td>\n",
       "      <td>Steve Asmussen</td>\n",
       "      <td>WinStar Farm LLC</td>\n",
       "      <td>00:02:28.510000</td>\n",
       "      <td>Belmont</td>\n",
       "      <td>1.5</td>\n",
       "    </tr>\n",
       "    <tr>\n",
       "      <th>1</th>\n",
       "      <td>2015</td>\n",
       "      <td>American Pharoah</td>\n",
       "      <td>Victor Espinoza</td>\n",
       "      <td>Bob Baffert</td>\n",
       "      <td>Zayat Stables, LLC</td>\n",
       "      <td>00:02:26.650000</td>\n",
       "      <td>Belmont</td>\n",
       "      <td>1.5</td>\n",
       "    </tr>\n",
       "    <tr>\n",
       "      <th>2</th>\n",
       "      <td>2014</td>\n",
       "      <td>Tonalist</td>\n",
       "      <td>Joel Rosario</td>\n",
       "      <td>Christophe Clement</td>\n",
       "      <td>Robert S. Evans</td>\n",
       "      <td>00:02:28.520000</td>\n",
       "      <td>Belmont</td>\n",
       "      <td>1.5</td>\n",
       "    </tr>\n",
       "    <tr>\n",
       "      <th>3</th>\n",
       "      <td>2013</td>\n",
       "      <td>Palace Malice</td>\n",
       "      <td>Mike Smith</td>\n",
       "      <td>Todd Pletcher</td>\n",
       "      <td>Dogwood Stable</td>\n",
       "      <td>00:02:30.700000</td>\n",
       "      <td>Belmont</td>\n",
       "      <td>1.5</td>\n",
       "    </tr>\n",
       "    <tr>\n",
       "      <th>4</th>\n",
       "      <td>2012</td>\n",
       "      <td>Union Rags</td>\n",
       "      <td>John Velazquez</td>\n",
       "      <td>Michael Matz</td>\n",
       "      <td>Phyllis M. Wyeth</td>\n",
       "      <td>00:02:30.420000</td>\n",
       "      <td>Belmont</td>\n",
       "      <td>1.5</td>\n",
       "    </tr>\n",
       "  </tbody>\n",
       "</table>\n",
       "</div>"
      ],
      "text/plain": [
       "   Year            Winner           Jockey             Trainer  \\\n",
       "0  2016           Creator   Irad Ortiz, Jr      Steve Asmussen   \n",
       "1  2015  American Pharoah  Victor Espinoza         Bob Baffert   \n",
       "2  2014          Tonalist     Joel Rosario  Christophe Clement   \n",
       "3  2013     Palace Malice       Mike Smith       Todd Pletcher   \n",
       "4  2012        Union Rags   John Velazquez        Michael Matz   \n",
       "\n",
       "                Owner             Time    Track  miles  \n",
       "0    WinStar Farm LLC  00:02:28.510000  Belmont    1.5  \n",
       "1  Zayat Stables, LLC  00:02:26.650000  Belmont    1.5  \n",
       "2     Robert S. Evans  00:02:28.520000  Belmont    1.5  \n",
       "3      Dogwood Stable  00:02:30.700000  Belmont    1.5  \n",
       "4    Phyllis M. Wyeth  00:02:30.420000  Belmont    1.5  "
      ]
     },
     "execution_count": 154,
     "metadata": {},
     "output_type": "execute_result"
    }
   ],
   "source": [
    "belmont['Time'] = pd.to_datetime(belmont['Time'], format='%M:%S.%f').dt.time\n",
    "belmont.head()"
   ]
  },
  {
   "cell_type": "code",
   "execution_count": 155,
   "metadata": {},
   "outputs": [
    {
     "name": "stdout",
     "output_type": "stream",
     "text": [
      "<class 'pandas.core.frame.DataFrame'>\n",
      "RangeIndex: 91 entries, 0 to 90\n",
      "Data columns (total 8 columns):\n",
      "Year       91 non-null int64\n",
      "Winner     91 non-null object\n",
      "Jockey     91 non-null object\n",
      "Trainer    91 non-null object\n",
      "Owner      91 non-null object\n",
      "Time       91 non-null object\n",
      "Track      91 non-null object\n",
      "miles      91 non-null float64\n",
      "dtypes: float64(1), int64(1), object(6)\n",
      "memory usage: 5.8+ KB\n"
     ]
    }
   ],
   "source": [
    "belmont.info()"
   ]
  },
  {
   "cell_type": "code",
   "execution_count": 164,
   "metadata": {},
   "outputs": [
    {
     "data": {
      "text/plain": [
       "0    00:02:28.510000\n",
       "1    00:02:26.650000\n",
       "2    00:02:28.520000\n",
       "3    00:02:30.700000\n",
       "4    00:02:30.420000\n",
       "Name: Time, dtype: object"
      ]
     },
     "execution_count": 164,
     "metadata": {},
     "output_type": "execute_result"
    }
   ],
   "source": [
    "time = pd.to_numeric(belmont['Time'], errors='ignore')\n",
    "time.head()"
   ]
  },
  {
   "cell_type": "markdown",
   "metadata": {},
   "source": [
    "# 4. The Exponential Distribution: np.random.exponential(mean, size=10000)\n",
    "#### Poisson distributed: the number of buses that will arrive per hour.\n",
    "#### Exponentially distributed: the amount of time between arrivals of buses. It has a single parameter, the mean waiting time. The Exponential distribution describes the waiting times between rare events.\n",
    "#### The poisson process, i.e. the timing of 1 incident is independent of all others. So the time between incidents should be exponentially distributed.\n",
    "How long must we wait to see both a no-hitter and then a batter hit the cycle? \n",
    "<p>Hitting the cycle is another rare baseball event. When a batter hits the cycle, he gets all four kinds of hits, a single, double, triple, and home run, in a single game. Like no-hitters, this can be modeled as a Poisson process, so the time between hits of the cycle are also Exponentially distributed.\n",
    "<p>The idea is that we have to wait some time for the no-hitter, and then after the no-hitter, we have to wait for hitting the cycle. Stated another way, what is the total waiting time for the arrival of two different Poisson processes? The total waiting time is the time waited for the no-hitter, plus the time waited for the hitting the cycle.\n",
    "<p>Define a function with call signature successive_poisson(tau1, tau2, size=1) that samples the waiting time for a no-hitter and a hit of the cycle. "
   ]
  },
  {
   "cell_type": "code",
   "execution_count": 191,
   "metadata": {},
   "outputs": [],
   "source": [
    "\"\"\"Compute time for arrival of 2 successive Poisson processes & draw samples out of 2 exponential distributions\"\"\"\n",
    "def f(x1, x2, size=1):\n",
    "    y1 = np.random.exponential(x1, size)\n",
    "    y2 = np.random.exponential(x2, size)\n",
    "    return y1 + y2"
   ]
  },
  {
   "cell_type": "markdown",
   "metadata": {},
   "source": [
    "The mean waiting time for a no-hitter is 764 games, and the mean waiting time for hitting the cycle is 715 games. Use the successive_poisson() function to draw 100,000 out of the distribution of waiting times for observing a no-hitter and a hitting of the cycle."
   ]
  },
  {
   "cell_type": "code",
   "execution_count": 193,
   "metadata": {},
   "outputs": [
    {
     "name": "stderr",
     "output_type": "stream",
     "text": [
      "/anaconda3/lib/python3.7/site-packages/matplotlib/axes/_axes.py:6521: MatplotlibDeprecationWarning: \n",
      "The 'normed' kwarg was deprecated in Matplotlib 2.1 and will be removed in 3.1. Use 'density' instead.\n",
      "  alternative=\"'density'\", removal=\"3.1\")\n"
     ]
    },
    {
     "data": {
      "image/png": "[encoded data removed]",
      "text/plain": [
       "<Figure size 432x288 with 1 Axes>"
      ]
     },
     "metadata": {},
     "output_type": "display_data"
    }
   ],
   "source": [
    "# Draw samples of waiting times: waiting_times\n",
    "wait = np.array(f(764, 715, 100000))\n",
    "plt.hist(wait, bins=100, normed=True, histtype='step')\n",
    "plt.xlabel('x')\n",
    "plt.ylabel('y')\n",
    "plt.show()"
   ]
  },
  {
   "cell_type": "code",
   "execution_count": 194,
   "metadata": {},
   "outputs": [],
   "source": [
    "def ecdf(m):\n",
    "    x=np.sort(m)\n",
    "    n=len(m)\n",
    "    y=np.arange(1, 1+n)/n\n",
    "    return x, y"
   ]
  },
  {
   "cell_type": "code",
   "execution_count": 197,
   "metadata": {},
   "outputs": [
    {
     "data": {
      "image/png": "[encoded data removed]",
      "text/plain": [
       "<Figure size 432x288 with 1 Axes>"
      ]
     },
     "metadata": {},
     "output_type": "display_data"
    }
   ],
   "source": [
    "plt.plot(x_theo, y_theo)\n",
    "plt.plot(x, y, marker='.', linestyle='none')\n",
    "plt.margins(0.02)"
   ]
  },
  {
   "cell_type": "code",
   "execution_count": null,
   "metadata": {},
   "outputs": [],
   "source": [
    "a = np.random.exponential(x)"
   ]
  }
 ],
 "metadata": {
  "kernelspec": {
   "display_name": "Python 3",
   "language": "python",
   "name": "python3"
  },
  "language_info": {
   "codemirror_mode": {
    "name": "ipython",
    "version": 3
   },
   "file_extension": ".py",
   "mimetype": "text/x-python",
   "name": "python",
   "nbconvert_exporter": "python",
   "pygments_lexer": "ipython3",
   "version": "3.7.3"
  }
 },
 "nbformat": 4,
 "nbformat_minor": 2
}
